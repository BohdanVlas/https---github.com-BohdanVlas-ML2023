{
 "cells": [
  {
   "cell_type": "code",
   "execution_count": 51,
   "metadata": {},
   "outputs": [],
   "source": [
    "#Імпорт необхідних бібліотек\n",
    "import numpy as nmp\n",
    "import pandas as pnd\n",
    "from matplotlib import pyplot as ppl\n",
    "from sklearn.model_selection import train_test_split as tts\n",
    "from sklearn.ensemble import RandomForestClassifier as rfc\n",
    "from sklearn.tree import DecisionTreeClassifier as dtc\n",
    "from sklearn.linear_model import LogisticRegression as lr\n",
    "from sklearn.metrics import mean_squared_error as mse\n",
    "from sklearn.metrics import accuracy_score as acs\n",
    "from sklearn.metrics import confusion_matrix as cm\n",
    "from sklearn.metrics import classification_report as clr"
   ]
  },
  {
   "cell_type": "code",
   "execution_count": 52,
   "metadata": {},
   "outputs": [
    {
     "name": "stdout",
     "output_type": "stream",
     "text": [
      "   Feature - 1  Feature - 2  Condition\n",
      "0        78268        53567          0\n",
      "1        52613        55891          1\n",
      "2        31243        51993          1\n",
      "3        96293        65026          0\n",
      "4        90471        90966          1\n"
     ]
    }
   ],
   "source": [
    "#Генерація випадкових данних\n",
    "nmp.random.seed(0)\n",
    "cnt = 130\n",
    "features = 2\n",
    "column = ['Feature - 1', 'Feature - 2', 'Condition']\n",
    "dat = nmp.random.randint(10000, 100000, size=(cnt, features))\n",
    "categ = nmp.random.choice([0, 1], size=(cnt, 1))\n",
    "#Об'єднання числових та категорійних ознак, створення таблиці та збереження даних у csv файл\n",
    "data = nmp.hstack((dat, categ))\n",
    "datatable = pnd.DataFrame(data, columns=column)\n",
    "datatable.to_csv('RandomData.csv', index=False)\n",
    "#Завантаження даних з csv файлу і вивід перших п'яти рядків\n",
    "datatabl = pnd.read_csv('RandomData.csv')\n",
    "print(datatabl[:5])"
   ]
  },
  {
   "cell_type": "code",
   "execution_count": 53,
   "metadata": {},
   "outputs": [],
   "source": [
    "#Обробка пропущених значень і вибір ознак\n",
    "datatabl = datatabl.dropna()\n",
    "x = datatabl[['Feature - 1', 'Feature - 2']]\n",
    "y = datatabl['Condition']\n",
    "#Розділення данних на тренувальні і тестові\n",
    "xtrain, xtest, ytrain, ytest =  tts(x, y, test_size=0.3, random_state=21)\n",
    "#Дерево рішень\n",
    "mtree = dtc()\n",
    "mtree.fit(xtrain, ytrain)\n",
    "lrtree = lr()\n",
    "lrtree.fit(xtrain, ytrain)\n",
    "predtree = lrtree.predict(xtest)"
   ]
  },
  {
   "cell_type": "code",
   "execution_count": 54,
   "metadata": {},
   "outputs": [
    {
     "name": "stdout",
     "output_type": "stream",
     "text": [
      "\n",
      "Mean Squared Error: 0.48717948717948717\n",
      "\n",
      "Accuracy : 0.5128205128205128\n",
      "\n",
      "Matrix of misclassified examples:\n",
      "[[ 3 17]\n",
      " [ 2 17]]\n",
      "\n",
      "Classification report:\n",
      "              precision    recall  f1-score   support\n",
      "\n",
      "           0       0.60      0.15      0.24        20\n",
      "           1       0.50      0.89      0.64        19\n",
      "\n",
      "    accuracy                           0.51        39\n",
      "   macro avg       0.55      0.52      0.44        39\n",
      "weighted avg       0.55      0.51      0.44        39\n",
      "\n"
     ]
    },
    {
     "data": {
      "image/png": "[encoded data removed]",
      "text/plain": [
       "<Figure size 640x480 with 1 Axes>"
      ]
     },
     "metadata": {},
     "output_type": "display_data"
    }
   ],
   "source": [
    "#Оцінка моделі -> середньо-квадратична помилка, точність і матриця неправильно класифікованих прикладів\n",
    "msetree = mse(ytest, predtree)\n",
    "print(f'\\nMean Squared Error: {msetree}')\n",
    "actree = acs(ytest, predtree)\n",
    "print(f'\\nAccuracy : {actree}')\n",
    "matr = cm(ytest, predtree)\n",
    "print('\\nMatrix of misclassified examples:')\n",
    "print(matr)\n",
    "#Звіт про класифікацію\n",
    "report = clr(ytest, predtree)\n",
    "print('\\nClassification report:')\n",
    "print(report)\n",
    "#Візуалізація розподілу кредитів за категоріями \"одобрено\" та \"відхилено\"\n",
    "aprcat = xtest[ytest == 1]\n",
    "rejcat = xtest[ytest == 0]\n",
    "ppl.scatter(aprcat.iloc[:, 0], aprcat.iloc[:, 1], label='Approved', c='lightgreen', marker='+')\n",
    "ppl.scatter(rejcat.iloc[:, 0], rejcat.iloc[:, 1], label='Rejected', c='red', marker='*')\n",
    "ppl.xlabel('Feature - 1')\n",
    "ppl.ylabel('Feature - 2')\n",
    "ppl.title('')\n",
    "ppl.show(close=None, block=None)"
   ]
  }
 ],
 "metadata": {
  "kernelspec": {
   "display_name": "Python 3.8.18 ('ml2023')",
   "language": "python",
   "name": "python3"
  },
  "language_info": {
   "codemirror_mode": {
    "name": "ipython",
    "version": 3
   },
   "file_extension": ".py",
   "mimetype": "text/x-python",
   "name": "python",
   "nbconvert_exporter": "python",
   "pygments_lexer": "ipython3",
   "version": "3.8.18"
  },
  "orig_nbformat": 4,
  "vscode": {
   "interpreter": {
    "hash": "dfd3de4df113c9a7cd7a0c4aa5428b97edc4f58899c99c46e09e772ebe657ed7"
   }
  }
 },
 "nbformat": 4,
 "nbformat_minor": 2
}
